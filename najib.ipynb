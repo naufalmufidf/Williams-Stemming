{
 "cells": [
  {
   "cell_type": "code",
   "execution_count": 70,
   "metadata": {},
   "outputs": [],
   "source": [
    "def stopword(val):\n",
    "    with open(\"stopwords.txt\", 'r') as fp:\n",
    "        lines = fp.readlines()\n",
    "        for row in lines:\n",
    "            if row.find(val) != -1:\n",
    "                return True\n",
    "        return False\n",
    "\n",
    "\n",
    "def kamus(val):\n",
    "    with open(\"kamus.txt\", 'r') as fp:\n",
    "        lines = fp.readlines()\n",
    "        for row in lines:\n",
    "            if row.find(val) != -1:\n",
    "                return True\n",
    "    return False"
   ]
  },
  {
   "cell_type": "code",
   "execution_count": 59,
   "metadata": {},
   "outputs": [],
   "source": [
    "# def stopword(val):\n",
    "#     with open(\"stopwords.txt\", 'r') as fp:\n",
    "#         lines = fp.readlines()\n",
    "#         for row in lines:\n",
    "#             if row.find(val) != 1:\n",
    "#                 with open(\"stopwords.txt\", 'r') as fd:\n",
    "#                     fd.seek(row.find(val) -1)\n",
    "#                     ff = fd.read(1)\n",
    "#                     if(ff == \" \"):\n",
    "#                         return True   \n",
    "#                     else: return False\n",
    "#         return False\n",
    "\n",
    "\n",
    "# def kamus(val):\n",
    "#     with open(\"kamus.txt\", 'r') as fp:\n",
    "#         lines = fp.readlines()\n",
    "#         for row in lines:\n",
    "#             if row.find(val) != -1:\n",
    "#                 return True\n",
    "#     return False"
   ]
  },
  {
   "cell_type": "code",
   "execution_count": 72,
   "metadata": {},
   "outputs": [
    {
     "name": "stdout",
     "output_type": "stream",
     "text": [
      "False\n"
     ]
    }
   ],
   "source": [
    "print(stopword(\"kwetiau\"))\n",
    "\n"
   ]
  },
  {
   "cell_type": "markdown",
   "metadata": {},
   "source": [
    "Inflectional suffixes  \n",
    "(\"-lah\", \"-kah\", \"-tah\", \"-pun\")\n",
    "\n",
    "Possesive Pronouns \n",
    "(\"-ku\", \"-mu\", \"nya\")"
   ]
  },
  {
   "cell_type": "code",
   "execution_count": 61,
   "metadata": {},
   "outputs": [
    {
     "name": "stdout",
     "output_type": "stream",
     "text": [
      "maksud\n"
     ]
    }
   ],
   "source": [
    "inflection = [\"lah\", \"kah\", \"tah\", \"pun\"]\n",
    "\n",
    "possesive = [\"ku\", \"mu\", \"nya\"]\n",
    "kata = \"maksudpun\"\n",
    "\n",
    "def inflectionPossesive(val):\n",
    "    i = 0\n",
    "    while(i < len(inflection)):\n",
    "        if(val[-3:] == inflection[i]):\n",
    "            val = val[:-3]\n",
    "        i += 1\n",
    "    \n",
    "    i = 0\n",
    "    while(i < len(possesive)):\n",
    "        if(val[-2:] == possesive[i]):\n",
    "            val = val[:-2]\n",
    "        i += 1\n",
    "    \n",
    "        if(val[-3:] == possesive[2]):\n",
    "            val = val[:-3]\n",
    "    \n",
    "    return val\n",
    "    \n",
    "\n",
    "print(inflectionPossesive(\"maksudnya\"))\n",
    "    "
   ]
  },
  {
   "cell_type": "markdown",
   "metadata": {},
   "source": [
    "Derivation Suffixes \n",
    "\n",
    "\"-i\", \"-an\", \"-kan\""
   ]
  },
  {
   "cell_type": "code",
   "execution_count": 62,
   "metadata": {},
   "outputs": [
    {
     "name": "stdout",
     "output_type": "stream",
     "text": [
      "mana\n"
     ]
    }
   ],
   "source": [
    "derivationSu = [\"i\", \"an\", \"kan\"]\n",
    "\n",
    "def DerivationSuffix(val):\n",
    "\n",
    "    i = 0\n",
    "    while(i < len(derivationSu)):\n",
    "        if(val[-3:] == derivationSu[i]):\n",
    "            val = val[:-3]\n",
    "        i += 1\n",
    "    \n",
    "    i = 0\n",
    "    while(i < len(derivationSu)):\n",
    "        if(val[-2:] == derivationSu[i]):\n",
    "            val = val[:-2]\n",
    "        i += 1\n",
    "        \n",
    "    i = 0\n",
    "    while(i < len(derivationSu)):\n",
    "        if(val[-1:] == derivationSu[i]):\n",
    "            val = val[:-1]\n",
    "        i += 1\n",
    "\n",
    "    return val\n",
    "\n",
    "print(DerivationSuffix(\"manakan\"))"
   ]
  },
  {
   "cell_type": "markdown",
   "metadata": {},
   "source": [
    "Derivation Prefix\n",
    "\n",
    "\"be-\", \"di-\", \"ke-\", \"me-\", \"pe-\", \"se-\" \"te-\""
   ]
  },
  {
   "cell_type": "code",
   "execution_count": 63,
   "metadata": {},
   "outputs": [
    {
     "name": "stdout",
     "output_type": "stream",
     "text": [
      "mana\n"
     ]
    }
   ],
   "source": [
    "derivationPre = [\"be\", \"di\", \"ke\", \"me\", \"pe\", \"se\", \"te\"]\n",
    "\n",
    "\n",
    "def DerivationPrefix(val):\n",
    "    i = 0\n",
    "    while(i < len(derivationPre)):\n",
    "        \n",
    "        if(val[:3] == \"ber\"):\n",
    "            val = val[3:]\n",
    "        \n",
    "        \n",
    "        if(val[:2] == derivationPre[i]):\n",
    "            val = val[2:]\n",
    "        i += 1\n",
    "        \n",
    "    return val\n",
    "\n",
    "print(DerivationPrefix(\"kemana\"))"
   ]
  },
  {
   "cell_type": "code",
   "execution_count": 73,
   "metadata": {},
   "outputs": [],
   "source": [
    "def Stemming(val):\n",
    "    \n",
    "    if(stopword(val) == False):\n",
    "        if(kamus(val) != True):\n",
    "            val = inflectionPossesive(val)\n",
    "        else: return val\n",
    "        \n",
    "        if(kamus(val) != True):\n",
    "            val = DerivationSuffix(val)\n",
    "        else: return val\n",
    "        \n",
    "        if(kamus(val) != True):\n",
    "            val = DerivationPrefix(val)\n",
    "        else: return val\n",
    "    elif(stopword(val) == True): \n",
    "        print(\"kata ini adalah kata umum yaitu\")\n",
    "        return val\n",
    "    \n",
    "    \n",
    "    return val"
   ]
  },
  {
   "cell_type": "code",
   "execution_count": 65,
   "metadata": {},
   "outputs": [],
   "source": [
    "# def Stemming(val):\n",
    "    \n",
    "   \n",
    "#     if(kamus(val) != True):\n",
    "#         val = inflectionPossesive(val)\n",
    "#     else: return val\n",
    "    \n",
    "#     if(kamus(val) != True):\n",
    "#         val = DerivationSuffix(val)\n",
    "#     else: return val\n",
    "    \n",
    "#     if(kamus(val) != True):\n",
    "#         val = DerivationPrefix(val)\n",
    "#     else: return val\n",
    "\n",
    "    \n",
    "    \n",
    "#     return val"
   ]
  },
  {
   "cell_type": "code",
   "execution_count": 79,
   "metadata": {},
   "outputs": [
    {
     "name": "stdout",
     "output_type": "stream",
     "text": [
      "samlekom palpale awokawokawok\n"
     ]
    }
   ],
   "source": [
    "print(Stemming(\"samlekom palpale awokawokawok\"))\n"
   ]
  }
 ],
 "metadata": {
  "kernelspec": {
   "display_name": "Python 3.11.0 64-bit",
   "language": "python",
   "name": "python3"
  },
  "language_info": {
   "codemirror_mode": {
    "name": "ipython",
    "version": 3
   },
   "file_extension": ".py",
   "mimetype": "text/x-python",
   "name": "python",
   "nbconvert_exporter": "python",
   "pygments_lexer": "ipython3",
   "version": "3.11.0"
  },
  "orig_nbformat": 4,
  "vscode": {
   "interpreter": {
    "hash": "c261aea317cc0286b3b3261fbba9abdec21eaa57589985bb7a274bf54d6cc0a7"
   }
  }
 },
 "nbformat": 4,
 "nbformat_minor": 2
}
