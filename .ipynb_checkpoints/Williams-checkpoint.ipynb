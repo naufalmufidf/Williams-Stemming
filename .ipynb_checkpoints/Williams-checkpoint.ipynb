{
 "cells": [
  {
   "cell_type": "code",
   "execution_count": 32,
   "metadata": {},
   "outputs": [],
   "source": [
    "import nltk\n",
    "import numpy as np\n",
    "\n",
    "vowel = [\"a\" , \"i\" , \"u\" , \"e\" , \"o\"]\n",
    "\n",
    "consonant = [\"b\", \"c\", \"d\", \"f\", \"g\", \"h\", \"j\", \"k\", \"l\", \"m\", \"n\", \"p\", \"q\", \"r\", \"s\", \"t\", \"v\", \"w\", \"x\", \"y\", \"z\"]\n"
   ]
  },
  {
   "cell_type": "markdown",
   "metadata": {},
   "source": [
    "# Stopword dan Kamus"
   ]
  },
  {
   "cell_type": "code",
   "execution_count": 33,
   "metadata": {},
   "outputs": [],
   "source": [
    "def stopword(val):\n",
    "    with open(\"stopwords.txt\", 'r') as fp:\n",
    "        lines = fp.readlines()\n",
    "        for row in lines:\n",
    "            if row.find(val) != -1:\n",
    "                return True\n",
    "        return False\n",
    "\n",
    "\n",
    "def kamus(val):\n",
    "    with open(\"kamus.txt\", 'r') as fp:\n",
    "        lines = fp.readlines()\n",
    "        for row in lines:\n",
    "            if row.find(val) != -1:\n",
    "                return True\n",
    "    return False"
   ]
  },
  {
   "cell_type": "code",
   "execution_count": 34,
   "metadata": {},
   "outputs": [],
   "source": [
    "# def stopword(val):\n",
    "#     with open(\"stopwords.txt\", 'r') as fp:\n",
    "#         lines = fp.readlines()\n",
    "#         for row in lines:\n",
    "#             if row.find(val) != 1:\n",
    "#                 with open(\"stopwords.txt\", 'r') as fd:\n",
    "#                     fd.seek(row.find(val) -1)\n",
    "#                     ff = fd.read(1)\n",
    "#                     if(ff == \" \"):\n",
    "#                         return True   \n",
    "#                     else: return False\n",
    "#         return False\n",
    "\n",
    "\n",
    "# def kamus(val):\n",
    "#     with open(\"kamus.txt\", 'r') as fp:\n",
    "#         lines = fp.readlines()\n",
    "#         for row in lines:\n",
    "#             if row.find(val) != -1:\n",
    "#                 return True\n",
    "#     return False"
   ]
  },
  {
   "cell_type": "code",
   "execution_count": 35,
   "metadata": {},
   "outputs": [
    {
     "name": "stdout",
     "output_type": "stream",
     "text": [
      "False\n"
     ]
    }
   ],
   "source": [
    "print(stopword(\"kwetiau\"))\n",
    "\n"
   ]
  },
  {
   "cell_type": "markdown",
   "metadata": {},
   "source": [
    "# Inflectional suffixes (Paricles & Possessive Pronouns)"
   ]
  },
  {
   "cell_type": "markdown",
   "metadata": {},
   "source": [
    "Inflectional suffixes  \n",
    "(\"-lah\", \"-kah\", \"-tah\", \"-pun\")\n",
    "\n",
    "Possesive Pronouns \n",
    "(\"-ku\", \"-mu\", \"nya\")"
   ]
  },
  {
   "cell_type": "code",
   "execution_count": 36,
   "metadata": {},
   "outputs": [
    {
     "name": "stdout",
     "output_type": "stream",
     "text": [
      "kamu\n"
     ]
    }
   ],
   "source": [
    "inflection = [\"lah\", \"kah\", \"tah\", \"pun\"]\n",
    "\n",
    "possesive = [\"ku\", \"mu\", \"nya\"]\n",
    "kata = \"maksudpun\"\n",
    "\n",
    "def inflectionPossesive(val):\n",
    "    i = 0\n",
    "    while(i < len(inflection)):\n",
    "        if(val[-3:] == inflection[i]):\n",
    "            val = val[:-3]\n",
    "        i += 1\n",
    "    \n",
    "    if(kamus(val) == False):\n",
    "        i = 0\n",
    "        while(i < len(possesive)):\n",
    "            if(val[-2:] == possesive[i]):\n",
    "                val = val[:-2]\n",
    "            i += 1\n",
    "        \n",
    "            if(val[-3:] == possesive[2]):\n",
    "                val = val[:-3]\n",
    "    else: return val\n",
    "    \n",
    "    return val\n",
    "    \n",
    "\n",
    "print(inflectionPossesive(\"kamulah\"))\n",
    "    "
   ]
  },
  {
   "cell_type": "markdown",
   "metadata": {},
   "source": [
    "# Derivation Suffixes \n",
    "\n",
    "\"-i\", \"-an\", \"-kan\""
   ]
  },
  {
   "cell_type": "code",
   "execution_count": 37,
   "metadata": {},
   "outputs": [],
   "source": [
    "derivationSu = [\"i\", \"an\", \"kan\"]\n",
    "\n",
    "def DerivationSuffix(val):\n",
    "\n",
    "    i = 0\n",
    "    while(i < len(derivationSu)):\n",
    "        if(val[-3:] == derivationSu[i]):\n",
    "            val = val[:-3]\n",
    "        i += 1\n",
    "    \n",
    "    i = 0\n",
    "    while(i < len(derivationSu)):\n",
    "        if(val[-2:] == derivationSu[i]):\n",
    "            val = val[:-2]\n",
    "        i += 1\n",
    "        \n",
    "    i = 0\n",
    "    while(i < len(derivationSu)):\n",
    "        if(val[-1:] == derivationSu[i]):\n",
    "            val = val[:-1]\n",
    "        i += 1\n",
    "\n",
    "    return val\n"
   ]
  },
  {
   "cell_type": "code",
   "execution_count": 38,
   "metadata": {},
   "outputs": [
    {
     "name": "stdout",
     "output_type": "stream",
     "text": [
      "True\n"
     ]
    }
   ],
   "source": [
    "# print(DerivationSuffix(\"beli\"))\n",
    "\n",
    "print(kamus(\"beli\"))"
   ]
  },
  {
   "cell_type": "markdown",
   "metadata": {},
   "source": [
    "# Derivation Prefix\n",
    "\n",
    "\"be-\", \"di-\", \"ke-\", \"me-\", \"pe-\", \"se-\" \"te-\""
   ]
  },
  {
   "cell_type": "code",
   "execution_count": 39,
   "metadata": {},
   "outputs": [
    {
     "name": "stdout",
     "output_type": "stream",
     "text": [
      "jahit\n"
     ]
    }
   ],
   "source": [
    "derivationPre = [\"be\", \"di\", \"ke\", \"me\", \"pe\", \"se\", \"te\"]\n",
    "\n",
    "\n",
    "def DerivationPrefix(val):\n",
    "    i = 0\n",
    "    while(i < len(derivationPre)):\n",
    "        \n",
    "        if(val[:3] == \"ber\"):\n",
    "            val = val[3:]\n",
    "        \n",
    "        if(i == 4):\n",
    "            if(val[:2] == derivationPre[i]):\n",
    "                if(val[2:3] == \"r\"):\n",
    "                    val = val[3:]\n",
    "        \n",
    "        if(i == 3):\n",
    "            if(val[:2] == derivationPre[i]):\n",
    "                if(val[2:3] == \"m\"):\n",
    "                    val = val[3:]\n",
    "                    \n",
    "        if(i == 4):\n",
    "            if(val[:2] == derivationPre[i]):\n",
    "                if(val[2:3] == \"n\"):\n",
    "                    val = val[3:]\n",
    "        \n",
    "        if(val[:2] == derivationPre[i]):\n",
    "            val = val[2:]\n",
    "        i += 1\n",
    "        \n",
    "    return val\n",
    "\n",
    "print(DerivationPrefix(\"penjahit\"))"
   ]
  },
  {
   "cell_type": "code",
   "execution_count": 40,
   "metadata": {},
   "outputs": [
    {
     "name": "stdout",
     "output_type": "stream",
     "text": [
      "beli\n"
     ]
    }
   ],
   "source": [
    "d = \"membeli\"\n",
    "\n",
    "print(DerivationPrefix(d))"
   ]
  },
  {
   "cell_type": "code",
   "execution_count": 41,
   "metadata": {},
   "outputs": [
    {
     "name": "stdout",
     "output_type": "stream",
     "text": [
      "li\n"
     ]
    }
   ],
   "source": [
    "print(DerivationPrefix(\"beli\"))"
   ]
  },
  {
   "cell_type": "code",
   "execution_count": 42,
   "metadata": {},
   "outputs": [],
   "source": [
    "# def Stemming(val):\n",
    "    \n",
    "#     if(stopword(val) == False):\n",
    "#         if(kamus(val) != True):\n",
    "#             val = inflectionPossesive(val)\n",
    "#         else: return val\n",
    "        \n",
    "#         if(kamus(val) != True):\n",
    "#             val = DerivationPrefix(val)\n",
    "#         else: return val\n",
    "        \n",
    "#         if(kamus(val) != True):\n",
    "#             val = DerivationSuffix(val)\n",
    "#         else: return val\n",
    "        \n",
    "        \n",
    "#     else:  \n",
    "#         print(\"kata ini adalah kata umum yaitu\")\n",
    "#         return val\n",
    "    \n",
    "    \n",
    "#     return val"
   ]
  },
  {
   "cell_type": "code",
   "execution_count": 43,
   "metadata": {},
   "outputs": [],
   "source": [
    "# print(Stemming(\"berl\"))"
   ]
  },
  {
   "cell_type": "code",
   "execution_count": 44,
   "metadata": {},
   "outputs": [],
   "source": [
    "def Stemming(val):\n",
    "    \n",
    "    \n",
    "    if(kamus(val) == False):\n",
    "        val = DerivationPrefix(val)\n",
    "    else: return val\n",
    "   \n",
    "    if(kamus(val) == False):\n",
    "        val = inflectionPossesive(val)\n",
    "    else: return val\n",
    "    \n",
    "    if(kamus(val) == False):\n",
    "        val = DerivationSuffix(val)\n",
    "    else: return val\n",
    "    \n",
    "    \n",
    "    return val"
   ]
  },
  {
   "cell_type": "code",
   "execution_count": 45,
   "metadata": {},
   "outputs": [
    {
     "name": "stdout",
     "output_type": "stream",
     "text": [
      "tingkah\n"
     ]
    }
   ],
   "source": [
    "print(Stemming(\"bertingkah\"))"
   ]
  },
  {
   "cell_type": "markdown",
   "metadata": {},
   "source": [
    "tokenizing (sentence => array word)"
   ]
  },
  {
   "cell_type": "code",
   "execution_count": 46,
   "metadata": {},
   "outputs": [],
   "source": [
    "\n",
    "def token(val):\n",
    "    val = nltk.word_tokenize(val)\n",
    "    return val\n",
    "\n"
   ]
  },
  {
   "cell_type": "code",
   "execution_count": 47,
   "metadata": {},
   "outputs": [
    {
     "name": "stdout",
     "output_type": "stream",
     "text": [
      "['halo', 'wb']\n"
     ]
    }
   ],
   "source": [
    "print(token(\"halo wb\"))"
   ]
  },
  {
   "cell_type": "markdown",
   "metadata": {},
   "source": [
    "stop words removal"
   ]
  },
  {
   "cell_type": "code",
   "execution_count": 48,
   "metadata": {},
   "outputs": [
    {
     "name": "stdout",
     "output_type": "stream",
     "text": [
      "['benarlah', 'sesama', 'serta', 'serupa', 'benarlah', 'benarlah', 'benarlah', 'natural', 'tissue']\n",
      "['natural' 'tissue']\n"
     ]
    }
   ],
   "source": [
    "kata = \"benarlah sesama serta serupa benarlah benarlah benarlah natural tissue\"\n",
    "kata = token(kata)\n",
    "\n",
    "print(kata)\n",
    "\n",
    "def stopRemove(val):\n",
    "    i = 0\n",
    "    while(i < len(val)):\n",
    "        if(stopword(val[i]) == True ):\n",
    "            val = np.delete(val, i)\n",
    "            i = 0\n",
    "            j = i\n",
    "            while(j < len(val)):\n",
    "                if(stopword(val[i]) == True ):\n",
    "                    val = np.delete(val, i)\n",
    "                j += 1\n",
    "        i += 1\n",
    "    return val\n",
    "\n",
    "\n",
    "print(stopRemove(kata))"
   ]
  },
  {
   "cell_type": "markdown",
   "metadata": {},
   "source": [
    "Stopword removal then stemming\n",
    "\n",
    "Stemming by sentence"
   ]
  },
  {
   "cell_type": "code",
   "execution_count": 49,
   "metadata": {},
   "outputs": [
    {
     "name": "stdout",
     "output_type": "stream",
     "text": [
      "nangkap\n"
     ]
    }
   ],
   "source": [
    "def senStem(val):\n",
    "    val = token(val)\n",
    "    val = stopRemove(val)\n",
    "    i = 0\n",
    "    sen = \" \"\n",
    "    while(i < len(val)):\n",
    "        val[i] = Stemming(val[i])\n",
    "        i += 1\n",
    "    \n",
    "    \n",
    "\n",
    "    return (sen.join(val))\n",
    "\n",
    "kata = \"menangkap\"\n",
    "\n",
    "print(senStem(kata))\n",
    "kata = senStem(kata)\n",
    "\n",
    "\n"
   ]
  },
  {
   "cell_type": "markdown",
   "metadata": {},
   "source": [
    "# Prefix Rules"
   ]
  },
  {
   "cell_type": "markdown",
   "metadata": {},
   "source": [
    "## Rule 1-5 (Awalan ber-)"
   ]
  },
  {
   "cell_type": "markdown",
   "metadata": {},
   "source": [
    "### berV"
   ]
  },
  {
   "cell_type": "code",
   "execution_count": 50,
   "metadata": {},
   "outputs": [],
   "source": [
    "def r1(val):\n",
    "    result = val\n",
    "    if(val[:3] == \"ber\"):\n",
    "        i = 0\n",
    "        while(i < 5):\n",
    "            if(result[3:4] == vowel[i]):\n",
    "                result = result[3:]\n",
    "                if(kamus(result) == True):\n",
    "                    return result\n",
    "                else:\n",
    "                    result = val[2:]\n",
    "                    if(kamus(result) == True):\n",
    "                        return result\n",
    "                    else:\n",
    "                        return val\n",
    "            i += 1\n",
    "    return val\n"
   ]
  },
  {
   "cell_type": "code",
   "execution_count": 51,
   "metadata": {},
   "outputs": [
    {
     "name": "stdout",
     "output_type": "stream",
     "text": [
      "\n"
     ]
    }
   ],
   "source": [
    "print(r1(\"\"))"
   ]
  },
  {
   "cell_type": "code",
   "execution_count": 52,
   "metadata": {},
   "outputs": [],
   "source": [
    "def r1v2(val):\n",
    "    result = val\n",
    "    if(val[:3] == \"ber\"):\n",
    "        i = 0\n",
    "        while(i < 5):\n",
    "            if(result[3:4] == vowel[i]):\n",
    "                result = result[2:]\n",
    "                if(kamus(result) == True & kamus(result[1:]) == True):\n",
    "                    result = result + \"/\" + val[3:]\n",
    "                    return result\n",
    "                else:\n",
    "                    if(kamus(result) == True):\n",
    "                        return result\n",
    "                    else:\n",
    "                        result = val[3:]\n",
    "                    if(kamus(result) == True):\n",
    "                        return result\n",
    "                    else:\n",
    "                        return val\n",
    "            i += 1\n",
    "    return val\n"
   ]
  },
  {
   "cell_type": "code",
   "execution_count": 53,
   "metadata": {},
   "outputs": [
    {
     "name": "stdout",
     "output_type": "stream",
     "text": [
      "ombak\n"
     ]
    }
   ],
   "source": [
    "kata = \"berombak\"\n",
    "\n",
    "print(r1(kata))"
   ]
  },
  {
   "cell_type": "markdown",
   "metadata": {},
   "source": [
    "### belajar"
   ]
  },
  {
   "cell_type": "code",
   "execution_count": 54,
   "metadata": {},
   "outputs": [],
   "source": [
    "def r4(val):\n",
    "    if(val == \"belajar\"):\n",
    "        val = val[3:]\n",
    "        return val"
   ]
  },
  {
   "cell_type": "code",
   "execution_count": 55,
   "metadata": {},
   "outputs": [
    {
     "name": "stdout",
     "output_type": "stream",
     "text": [
      "ajar\n"
     ]
    }
   ],
   "source": [
    "print(r4(\"belajar\"))"
   ]
  },
  {
   "cell_type": "markdown",
   "metadata": {},
   "source": [
    "## Rule 6-10 (Awalan ter-)"
   ]
  },
  {
   "cell_type": "markdown",
   "metadata": {},
   "source": [
    "### terV"
   ]
  },
  {
   "cell_type": "code",
   "execution_count": 56,
   "metadata": {},
   "outputs": [],
   "source": [
    "def r6(val):\n",
    "    result = val\n",
    "    if(val[:3] == \"ter\"):\n",
    "        i = 0\n",
    "        while(i < 5):\n",
    "            if(result[3:4] == vowel[i]):\n",
    "                result = result[3:]\n",
    "                if(kamus(result) == True):\n",
    "                    return result\n",
    "                else:\n",
    "                    result = val[2:]\n",
    "                    if(kamus(result) == True):\n",
    "                        return result\n",
    "                    else:\n",
    "                        return val\n",
    "            i += 1\n",
    "    return val"
   ]
  },
  {
   "cell_type": "code",
   "execution_count": 57,
   "metadata": {},
   "outputs": [],
   "source": [
    "def r6v2(val):\n",
    "    result = val\n",
    "    if(kamus(val) == False):\n",
    "        if(val[:3] == \"ter\"):\n",
    "            i = 0\n",
    "            while(i < 5):\n",
    "                if(result[3:4] == vowel[i]):\n",
    "                    result = result[3:]\n",
    "                    if(kamus(result) == True):\n",
    "                        return result\n",
    "                    else:\n",
    "                        result = val[2:]\n",
    "                        if(kamus(result) == True):\n",
    "                            return result\n",
    "                        else:\n",
    "                            return val\n",
    "                i += 1\n",
    "    else:\n",
    "        return val"
   ]
  },
  {
   "cell_type": "code",
   "execution_count": 58,
   "metadata": {},
   "outputs": [
    {
     "name": "stdout",
     "output_type": "stream",
     "text": [
      "ampil\n"
     ]
    }
   ],
   "source": [
    "print(r6(\"terampil\"))"
   ]
  },
  {
   "cell_type": "markdown",
   "metadata": {},
   "source": [
    "## Rule 10-19 (Awalan me-)"
   ]
  },
  {
   "cell_type": "markdown",
   "metadata": {},
   "source": [
    "###  me{l|r|w|y}V"
   ]
  },
  {
   "cell_type": "code",
   "execution_count": 59,
   "metadata": {},
   "outputs": [],
   "source": [
    "def r10(val):\n",
    "    req = [\"l\", \"r\", \"w\", \"y\"]\n",
    "    result = val\n",
    "    if(kamus(val) == False):\n",
    "        if(val[:2] == \"me\"):\n",
    "            i = 0\n",
    "            while(i < 4):\n",
    "                if(result[2:3] == req[i]):\n",
    "                    j = 0\n",
    "                    while(j < 5):\n",
    "                        if(result[3:4] == vowel[j]):\n",
    "                            result = result[2:]\n",
    "                            if(kamus(result) == True):\n",
    "                                return result\n",
    "                            else:\n",
    "                                return val\n",
    "                        j += 1\n",
    "                i += 1\n",
    "    \n",
    "    return val\n",
    "    "
   ]
  },
  {
   "cell_type": "code",
   "execution_count": 60,
   "metadata": {},
   "outputs": [
    {
     "name": "stdout",
     "output_type": "stream",
     "text": [
      "mempengaruh\n"
     ]
    }
   ],
   "source": [
    "print(r10(\"mempengaruh\"))"
   ]
  },
  {
   "cell_type": "markdown",
   "metadata": {},
   "source": [
    "### mem{b|f|v}"
   ]
  },
  {
   "cell_type": "code",
   "execution_count": 61,
   "metadata": {},
   "outputs": [],
   "source": [
    "def r11(val):\n",
    "    req = [\"b\",\"f\", \"v\"]\n",
    "    result = val\n",
    "    if(result[:3] == \"mem\"):\n",
    "        result = result[3:]\n",
    "        i=0\n",
    "        while(i<5):\n",
    "            if(result[:1] == req[i]):\n",
    "                if(kamus(result) == True):\n",
    "                    return result\n",
    "                else: return val\n",
    "            else: return val\n",
    "    "
   ]
  },
  {
   "cell_type": "code",
   "execution_count": 62,
   "metadata": {},
   "outputs": [
    {
     "name": "stdout",
     "output_type": "stream",
     "text": [
      "bayar\n"
     ]
    }
   ],
   "source": [
    "print(r11(\"membayar\"))"
   ]
  },
  {
   "cell_type": "markdown",
   "metadata": {},
   "source": [
    "###  mempe..."
   ]
  },
  {
   "cell_type": "code",
   "execution_count": 63,
   "metadata": {},
   "outputs": [],
   "source": [
    "def r12(val):\n",
    "    result = val\n",
    "    if(result[:5] == \"mempe\"):\n",
    "        result = result[3:]\n",
    "        if(kamus(result) == True):\n",
    "            return result\n",
    "    return val"
   ]
  },
  {
   "cell_type": "code",
   "execution_count": 64,
   "metadata": {},
   "outputs": [
    {
     "name": "stdout",
     "output_type": "stream",
     "text": [
      "pengaruh\n",
      "False\n"
     ]
    }
   ],
   "source": [
    "kata = \"mempengaruh\"\n",
    "print(r12(kata))\n",
    "print(kamus(\"mempengaruh\"))"
   ]
  },
  {
   "cell_type": "markdown",
   "metadata": {},
   "source": [
    "###  men{c|d|j|z}..."
   ]
  },
  {
   "cell_type": "code",
   "execution_count": 65,
   "metadata": {},
   "outputs": [],
   "source": [
    "def r14(val):\n",
    "    req = [\"c\",\"d\", \"j\", \"z\"]\n",
    "    result = val\n",
    "    if(result[:3] == \"men\"):\n",
    "        result = result[3:]\n",
    "        i=0\n",
    "        while(i<5):\n",
    "            if(result[:1] == req[i]):\n",
    "                if(kamus(result) == True):\n",
    "                    return result\n",
    "                else: return val\n",
    "            else: return val\n",
    "    return val\n",
    "    "
   ]
  },
  {
   "cell_type": "markdown",
   "metadata": {},
   "source": [
    "#### menV. . . "
   ]
  },
  {
   "cell_type": "code",
   "execution_count": 66,
   "metadata": {},
   "outputs": [],
   "source": [
    "def r15(val):\n",
    "    result = val\n",
    "    if(val[:3] == \"men\"):\n",
    "        i = 0\n",
    "        while(i<4):\n",
    "            if(val[3:4] == vowel[i]):\n",
    "                val = val[3:]\n",
    "                result = \"t\" + val \n",
    "                if(kamus(result) == True):\n",
    "                    return result\n",
    "                else: \n",
    "                    result = \"n\" + val\n",
    "                    if(kamus(result) == True):\n",
    "                        return result\n",
    "                \n",
    "            i += 1\n",
    "        else: return val\n",
    "    return val"
   ]
  },
  {
   "cell_type": "code",
   "execution_count": 67,
   "metadata": {},
   "outputs": [],
   "source": [
    "def r15v2(val):\n",
    "    result = val\n",
    "    i = 0\n",
    "    while(i<4):\n",
    "        if(val[3:4] == vowel[i]):\n",
    "            val = val[3:]\n",
    "            result = \"t\" + val \n",
    "            if(kamus(result) == True):\n",
    "                return result\n",
    "            else: \n",
    "                result = \"n\" + val\n",
    "                if(kamus(result) == True):\n",
    "                    return result\n",
    "            \n",
    "        i += 1\n",
    "    return val\n",
    "    "
   ]
  },
  {
   "cell_type": "code",
   "execution_count": 68,
   "metadata": {},
   "outputs": [
    {
     "name": "stdout",
     "output_type": "stream",
     "text": [
      "m\n"
     ]
    }
   ],
   "source": [
    "kata =\"menari\"\n",
    "print(kata[:1])"
   ]
  },
  {
   "cell_type": "code",
   "execution_count": 69,
   "metadata": {},
   "outputs": [
    {
     "name": "stdout",
     "output_type": "stream",
     "text": [
      "tangkap\n"
     ]
    },
    {
     "data": {
      "text/plain": [
       "'khellow'"
      ]
     },
     "execution_count": 69,
     "metadata": {},
     "output_type": "execute_result"
    }
   ],
   "source": [
    "print(r15(\"menangkap\"))\n",
    "\n",
    "\"samlekom\"\n",
    "\"khellow\""
   ]
  },
  {
   "cell_type": "markdown",
   "metadata": {},
   "source": [
    "###  meng{g|h|q|k}..."
   ]
  },
  {
   "cell_type": "code",
   "execution_count": 70,
   "metadata": {},
   "outputs": [],
   "source": [
    "def r16(val):\n",
    "    req = [\"g\",\"h\", \"k\", \"q\"]\n",
    "    result = val\n",
    "    if(result[:4] == \"meng\"):\n",
    "        result = result[4:]\n",
    "        i=0\n",
    "        while(i<5):\n",
    "            if(result[:1] == req[i]):\n",
    "                if(kamus(result) == True):\n",
    "                    return result\n",
    "                else: return val\n",
    "            else: return val\n",
    "    return val\n",
    "    "
   ]
  },
  {
   "cell_type": "code",
   "execution_count": 71,
   "metadata": {},
   "outputs": [
    {
     "name": "stdout",
     "output_type": "stream",
     "text": [
      "gapai\n"
     ]
    }
   ],
   "source": [
    "print(r16(\"menggapai\"))"
   ]
  },
  {
   "cell_type": "markdown",
   "metadata": {},
   "source": [
    "### mengV..."
   ]
  },
  {
   "cell_type": "code",
   "execution_count": 72,
   "metadata": {},
   "outputs": [],
   "source": [
    "def r17(val):\n",
    "    result = val\n",
    "    if(result[:4] == \"meng\"):\n",
    "        result = \"k\" + result[4:]\n",
    "        if(kamus(result) == True):\n",
    "            return result \n",
    "        else:\n",
    "            result = val[4:]\n",
    "            if(kamus(result) == True):\n",
    "                return result\n",
    "            else:\n",
    "                return val\n",
    "    return val\n",
    "        "
   ]
  },
  {
   "cell_type": "code",
   "execution_count": 73,
   "metadata": {},
   "outputs": [
    {
     "name": "stdout",
     "output_type": "stream",
     "text": [
      "ambil\n"
     ]
    }
   ],
   "source": [
    "kata = \"mengambil\"\n",
    "\n",
    "# print(kata[4:])\n",
    "\n",
    "# kata = \"k\" + kata[4:]\n",
    "# print(kata)\n",
    "\n",
    "print(r17(kata))"
   ]
  },
  {
   "cell_type": "markdown",
   "metadata": {},
   "source": [
    "### menyV..."
   ]
  },
  {
   "cell_type": "code",
   "execution_count": 74,
   "metadata": {},
   "outputs": [],
   "source": [
    "def r18(val):\n",
    "    result = val\n",
    "    if(result[:4] == \"meny\"):\n",
    "        result = \"s\" + result[4:]\n",
    "        if(kamus(result) == True):\n",
    "            return result\n",
    "    return val"
   ]
  },
  {
   "cell_type": "code",
   "execution_count": 75,
   "metadata": {},
   "outputs": [
    {
     "name": "stdout",
     "output_type": "stream",
     "text": [
      "sampai\n"
     ]
    }
   ],
   "source": [
    "# kata = \"menyampaikan\"\n",
    "# print(kata[:4])\n",
    "\n",
    "kata = \"menyampai\"\n",
    "print(r18(kata))"
   ]
  },
  {
   "cell_type": "markdown",
   "metadata": {},
   "source": [
    "## Rule 20-33"
   ]
  },
  {
   "cell_type": "markdown",
   "metadata": {},
   "source": [
    " ### pe{w|y}V..."
   ]
  },
  {
   "cell_type": "code",
   "execution_count": 76,
   "metadata": {},
   "outputs": [],
   "source": [
    "def r20(val):\n",
    "    req = [ \"w\", \"y\"]\n",
    "    result = val\n",
    "    if(kamus(val) == False):\n",
    "        if(val[:2] == \"pe\"):\n",
    "            i = 0\n",
    "            while(i < 2):\n",
    "                if(result[2:3] == req[i]): \n",
    "                    j = 0\n",
    "                    while(j < 5):\n",
    "                        if(result[3:4] == vowel[i]):\n",
    "                            result = result[2:]\n",
    "                            if(kamus(result) == True):\n",
    "                                return result\n",
    "                            else:\n",
    "                                return val\n",
    "                        j += 1\n",
    "                i += 1\n",
    "    \n",
    "    return val"
   ]
  },
  {
   "cell_type": "code",
   "execution_count": 77,
   "metadata": {},
   "outputs": [
    {
     "name": "stdout",
     "output_type": "stream",
     "text": [
      "waris\n"
     ]
    }
   ],
   "source": [
    "print(r20(\"pewaris\"))\n",
    "# kata = \"pewarisan\"\n",
    "# print(kata[2:])"
   ]
  },
  {
   "cell_type": "markdown",
   "metadata": {},
   "source": [
    "###  perV..."
   ]
  },
  {
   "cell_type": "code",
   "execution_count": 78,
   "metadata": {},
   "outputs": [],
   "source": [
    "def r21(val):\n",
    "    result = val\n",
    "    if(val[:3] == \"per\"):\n",
    "        i = 0\n",
    "        while(i < 5):\n",
    "            if(result[3:4] == vowel[i]):\n",
    "                result = result[2:]\n",
    "                if(kamus(result) == True):\n",
    "                    return result\n",
    "                else:\n",
    "                    result = val[3:]\n",
    "                    if(kamus(result) == True):\n",
    "                        return result\n",
    "                    else:\n",
    "                        return val\n",
    "            i += 1\n",
    "    return val\n"
   ]
  },
  {
   "cell_type": "code",
   "execution_count": 79,
   "metadata": {},
   "outputs": [
    {
     "name": "stdout",
     "output_type": "stream",
     "text": [
      "ramal\n"
     ]
    }
   ],
   "source": [
    "print(r21(\"peramal\"))"
   ]
  },
  {
   "cell_type": "markdown",
   "metadata": {},
   "source": [
    "# rule examining"
   ]
  },
  {
   "cell_type": "code",
   "execution_count": 80,
   "metadata": {},
   "outputs": [],
   "source": [
    "def r1_5(val):\n",
    "    \n",
    "    if(kamus(val) == False):\n",
    "        val = r1(val)\n",
    "        \n",
    "    else: return val\n",
    "    \n",
    "    if(kamus(val) == False):    \n",
    "        val = r4(val)\n",
    "    else: return val\n",
    "    \n",
    "    return val"
   ]
  },
  {
   "cell_type": "code",
   "execution_count": 81,
   "metadata": {},
   "outputs": [
    {
     "name": "stdout",
     "output_type": "stream",
     "text": [
      "ombak\n"
     ]
    }
   ],
   "source": [
    "print(r1_5(\"berombak\"))"
   ]
  },
  {
   "cell_type": "code",
   "execution_count": 82,
   "metadata": {},
   "outputs": [],
   "source": [
    "def r6_9(val):\n",
    "    result = val\n",
    "    if(kamus(result) == False):\n",
    "        result = r6(result)\n",
    "        return result\n",
    "    return val"
   ]
  },
  {
   "cell_type": "code",
   "execution_count": 83,
   "metadata": {},
   "outputs": [
    {
     "name": "stdout",
     "output_type": "stream",
     "text": [
      "ancam\n"
     ]
    }
   ],
   "source": [
    "print(r6_9(\"terancam\"))"
   ]
  },
  {
   "cell_type": "code",
   "execution_count": 84,
   "metadata": {},
   "outputs": [],
   "source": [
    "def r10_19(val):\n",
    "    origin = val\n",
    "    if(kamus(val) == False):\n",
    "        val = r10(val)\n",
    "    else: return val\n",
    "    \n",
    "    if(kamus(val) == False):\n",
    "        val = r12(val)\n",
    "    else: return val\n",
    "    \n",
    "    if(kamus(val) == False):\n",
    "        val = r14(val)\n",
    "    else: return val\n",
    "    \n",
    "    if(kamus(val) == False):\n",
    "        val = r15(val)\n",
    "    else: return val\n",
    "    if(kamus(val) == False):\n",
    "        val = r16(val)\n",
    "    else: return val\n",
    "    \n",
    "    if(kamus(val) == False):\n",
    "        val = r17(val)\n",
    "    else: return val\n",
    "    \n",
    "    if(kamus(val) == False):\n",
    "        val = r18(val)\n",
    "    else: return val\n",
    "    \n",
    "    if(kamus(val)== True):\n",
    "        return val\n",
    "    \n",
    "    else: return origin\n",
    "    "
   ]
  },
  {
   "cell_type": "code",
   "execution_count": 85,
   "metadata": {},
   "outputs": [
    {
     "name": "stdout",
     "output_type": "stream",
     "text": [
      "lamar\n"
     ]
    }
   ],
   "source": [
    "print(r10_19(\"melamar\"))"
   ]
  },
  {
   "cell_type": "code",
   "execution_count": 86,
   "metadata": {},
   "outputs": [],
   "source": [
    "def r20_33(val):\n",
    "    origin = val\n",
    "    if(kamus(val) == False):\n",
    "        val = r20(val)\n",
    "    else: return val\n",
    "    if(kamus(val) == False):\n",
    "        val = r21(val)\n",
    "    else: return val\n",
    "    \n",
    "    if(kamus(val) == True):\n",
    "        return val\n",
    "    \n",
    "    return origin"
   ]
  },
  {
   "cell_type": "code",
   "execution_count": 87,
   "metadata": {},
   "outputs": [
    {
     "name": "stdout",
     "output_type": "stream",
     "text": [
      "ramal\n"
     ]
    }
   ],
   "source": [
    "print(r20_33(\"peramal\"))"
   ]
  },
  {
   "cell_type": "markdown",
   "metadata": {},
   "source": [
    "# rule examining prefixes"
   ]
  },
  {
   "cell_type": "code",
   "execution_count": 93,
   "metadata": {},
   "outputs": [],
   "source": [
    "def rules(val):\n",
    "    original = val\n",
    "    \n",
    "    val = r20_33(val)\n",
    "    val = r10_19(val)\n",
    "    val = r1_5(val)\n",
    "\n",
    "    if(kamus(val) == True):\n",
    "        return val\n",
    "    else: return original"
   ]
  },
  {
   "cell_type": "code",
   "execution_count": 89,
   "metadata": {},
   "outputs": [
    {
     "name": "stdout",
     "output_type": "stream",
     "text": [
      "b\n"
     ]
    }
   ],
   "source": [
    "kata = \"b\"\n",
    "print(kata[:2])"
   ]
  },
  {
   "cell_type": "code",
   "execution_count": 90,
   "metadata": {},
   "outputs": [
    {
     "name": "stdout",
     "output_type": "stream",
     "text": [
      "ombak\n",
      "ajar\n",
      "waris\n",
      "pengaruh\n"
     ]
    }
   ],
   "source": [
    "print(rules(\"berombak\"))\n",
    "print(rules(\"belajar\"))\n",
    "print(rules(\"pewaris\"))\n",
    "print(rules(\"mempengaruh\"))"
   ]
  },
  {
   "cell_type": "markdown",
   "metadata": {},
   "source": [
    "# Williams"
   ]
  },
  {
   "cell_type": "code",
   "execution_count": 94,
   "metadata": {},
   "outputs": [],
   "source": [
    "def StemmingWil(val):\n",
    "    original = val\n",
    "    if(kamus(val) == False):\n",
    "        val = inflectionPossesive(val)\n",
    "    else: return val\n",
    "    \n",
    "    if(kamus(val) == False):\n",
    "        val = DerivationSuffix(val)\n",
    "    else: return val\n",
    "    \n",
    "    if(kamus(val) == False):\n",
    "        val = DerivationPrefix(val)\n",
    "    else: return val\n",
    "    \n",
    "    if(kamus(val) == False):\n",
    "        val = rules(val)\n",
    "    else: return val\n",
    "    \n",
    "    # implementasi rules\n",
    "    \n",
    "    if(kamus(val) == True):\n",
    "        return val\n",
    "    else: return original"
   ]
  },
  {
   "cell_type": "code",
   "execution_count": 98,
   "metadata": {},
   "outputs": [
    {
     "ename": "TypeError",
     "evalue": "must be str, not NoneType",
     "output_type": "error",
     "traceback": [
      "\u001b[1;31m---------------------------------------------------------------------------\u001b[0m",
      "\u001b[1;31mTypeError\u001b[0m                                 Traceback (most recent call last)",
      "Cell \u001b[1;32mIn [98], line 1\u001b[0m\n\u001b[1;32m----> 1\u001b[0m \u001b[39mprint\u001b[39m(StemmingWil(\u001b[39m\"\u001b[39;49m\u001b[39mbelajar\u001b[39;49m\u001b[39m\"\u001b[39;49m))\n",
      "Cell \u001b[1;32mIn [94], line 16\u001b[0m, in \u001b[0;36mStemmingWil\u001b[1;34m(val)\u001b[0m\n\u001b[0;32m     13\u001b[0m \u001b[39melse\u001b[39;00m: \u001b[39mreturn\u001b[39;00m val\n\u001b[0;32m     15\u001b[0m \u001b[39mif\u001b[39;00m(kamus(val) \u001b[39m==\u001b[39m \u001b[39mFalse\u001b[39;00m):\n\u001b[1;32m---> 16\u001b[0m     val \u001b[39m=\u001b[39m rules(val)\n\u001b[0;32m     17\u001b[0m \u001b[39melse\u001b[39;00m: \u001b[39mreturn\u001b[39;00m val\n\u001b[0;32m     19\u001b[0m \u001b[39m# implementasi rules\u001b[39;00m\n",
      "Cell \u001b[1;32mIn [93], line 8\u001b[0m, in \u001b[0;36mrules\u001b[1;34m(val)\u001b[0m\n\u001b[0;32m      5\u001b[0m val \u001b[39m=\u001b[39m r10_19(val)\n\u001b[0;32m      6\u001b[0m val \u001b[39m=\u001b[39m r1_5(val)\n\u001b[1;32m----> 8\u001b[0m \u001b[39mif\u001b[39;00m(kamus(val) \u001b[39m==\u001b[39m \u001b[39mTrue\u001b[39;00m):\n\u001b[0;32m      9\u001b[0m     \u001b[39mreturn\u001b[39;00m val\n\u001b[0;32m     10\u001b[0m \u001b[39melse\u001b[39;00m: \u001b[39mreturn\u001b[39;00m original\n",
      "Cell \u001b[1;32mIn [33], line 14\u001b[0m, in \u001b[0;36mkamus\u001b[1;34m(val)\u001b[0m\n\u001b[0;32m     12\u001b[0m     lines \u001b[39m=\u001b[39m fp\u001b[39m.\u001b[39mreadlines()\n\u001b[0;32m     13\u001b[0m     \u001b[39mfor\u001b[39;00m row \u001b[39min\u001b[39;00m lines:\n\u001b[1;32m---> 14\u001b[0m         \u001b[39mif\u001b[39;00m row\u001b[39m.\u001b[39;49mfind(val) \u001b[39m!=\u001b[39m \u001b[39m-\u001b[39m\u001b[39m1\u001b[39m:\n\u001b[0;32m     15\u001b[0m             \u001b[39mreturn\u001b[39;00m \u001b[39mTrue\u001b[39;00m\n\u001b[0;32m     16\u001b[0m \u001b[39mreturn\u001b[39;00m \u001b[39mFalse\u001b[39;00m\n",
      "\u001b[1;31mTypeError\u001b[0m: must be str, not NoneType"
     ]
    }
   ],
   "source": [
    "print(StemmingWil(\"belajar\"))"
   ]
  },
  {
   "cell_type": "code",
   "execution_count": 3,
   "metadata": {},
   "outputs": [
    {
     "name": "stdout",
     "output_type": "stream",
     "text": [
      "masukan nama\n"
     ]
    },
    {
     "ename": "TypeError",
     "evalue": "int() argument must be a string, a bytes-like object or a real number, not 'NoneType'",
     "output_type": "error",
     "traceback": [
      "\u001b[1;31m---------------------------------------------------------------------------\u001b[0m",
      "\u001b[1;31mTypeError\u001b[0m                                 Traceback (most recent call last)",
      "Cell \u001b[1;32mIn [3], line 1\u001b[0m\n\u001b[1;32m----> 1\u001b[0m opal \u001b[39m=\u001b[39m \u001b[39minput\u001b[39m(\u001b[39mint\u001b[39;49m(\u001b[39mprint\u001b[39;49m(\u001b[39m\"\u001b[39;49m\u001b[39mmasukan nama\u001b[39;49m\u001b[39m\"\u001b[39;49m)))\n\u001b[0;32m      3\u001b[0m \u001b[39mprint\u001b[39m(opal)\n",
      "\u001b[1;31mTypeError\u001b[0m: int() argument must be a string, a bytes-like object or a real number, not 'NoneType'"
     ]
    }
   ],
   "source": [
    "opal = input(print(int(\"masukan nama\")))\n",
    "\n",
    "print(opal)"
   ]
  }
 ],
 "metadata": {
  "kernelspec": {
   "display_name": "Python 3 (ipykernel)",
   "language": "python",
   "name": "python3"
  },
  "language_info": {
   "codemirror_mode": {
    "name": "ipython",
    "version": 3
   },
   "file_extension": ".py",
   "mimetype": "text/x-python",
   "name": "python",
   "nbconvert_exporter": "python",
   "pygments_lexer": "ipython3",
   "version": "3.9.12"
  },
  "vscode": {
   "interpreter": {
    "hash": "c261aea317cc0286b3b3261fbba9abdec21eaa57589985bb7a274bf54d6cc0a7"
   }
  }
 },
 "nbformat": 4,
 "nbformat_minor": 2
}
